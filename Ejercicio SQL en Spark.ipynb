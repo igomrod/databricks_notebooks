{
 "cells": [
  {
   "cell_type": "markdown",
   "metadata": {
    "application/vnd.databricks.v1+cell": {
     "cellMetadata": {},
     "inputWidgets": {},
     "nuid": "6f469f76-ca0c-4f63-a944-b8ac08e6a60f",
     "showTitle": false,
     "title": ""
    }
   },
   "source": [
    "# Ejercicio SQL\n",
    "\n",
    "Responderemos a una serie de preguntas sobre el dataset (San Francisco Fire Calls)[https://www.databricks.com/notebooks/gallery/SanFranciscoFireCallsAnalysis.html] usando SQL"
   ]
  },
  {
   "cell_type": "markdown",
   "metadata": {
    "application/vnd.databricks.v1+cell": {
     "cellMetadata": {},
     "inputWidgets": {},
     "nuid": "bce26f67-96ce-4b34-aa61-8461c78dd5cc",
     "showTitle": false,
     "title": ""
    }
   },
   "source": [
    "## Carguemos los datos\n",
    "\n",
    "El dataset que vamos a utilizar es (San Francisco Fire Calls)[https://www.databricks.com/notebooks/gallery/SanFranciscoFireCallsAnalysis.html]\n",
    "\n",
    "Esta disponible en Databricks en este path /databricks-datasets/learning-spark-v2/sf-fire/sf-fire-calls.csv"
   ]
  },
  {
   "cell_type": "code",
   "execution_count": 0,
   "metadata": {
    "application/vnd.databricks.v1+cell": {
     "cellMetadata": {
      "byteLimit": 2048000,
      "rowLimit": 10000
     },
     "inputWidgets": {},
     "nuid": "8a7c68d7-bd08-43c8-8bdc-62d1480e275d",
     "showTitle": false,
     "title": ""
    }
   },
   "outputs": [],
   "source": [
    "%fs ls /databricks-datasets/learning-spark-v2/sf-fire/sf-fire-calls.csv"
   ]
  },
  {
   "cell_type": "markdown",
   "metadata": {
    "application/vnd.databricks.v1+cell": {
     "cellMetadata": {},
     "inputWidgets": {},
     "nuid": "9f92e904-faf5-4c90-8b1f-605a4a64c5ee",
     "showTitle": false,
     "title": ""
    }
   },
   "source": [
    "Cargamos los datos en un Dataframe usando el objeto (DataFrameReader)[https://spark.apache.org/docs/latest/api/python/reference/pyspark.sql/io.html] que nos proporciona la sesión de spark"
   ]
  },
  {
   "cell_type": "code",
   "execution_count": 0,
   "metadata": {
    "application/vnd.databricks.v1+cell": {
     "cellMetadata": {
      "byteLimit": 2048000,
      "rowLimit": 10000
     },
     "inputWidgets": {},
     "nuid": "fb99be7f-a302-4e13-9b35-3199cc82366d",
     "showTitle": false,
     "title": ""
    }
   },
   "outputs": [],
   "source": [
    "spark.read"
   ]
  },
  {
   "cell_type": "code",
   "execution_count": 0,
   "metadata": {
    "application/vnd.databricks.v1+cell": {
     "cellMetadata": {
      "byteLimit": 2048000,
      "rowLimit": 10000
     },
     "inputWidgets": {},
     "nuid": "821c2bfd-f149-4df3-883d-f841502d7a1f",
     "showTitle": false,
     "title": ""
    }
   },
   "outputs": [],
   "source": [
    "df_sf_fire_calls = (spark.read\n",
    "                    .format(\"csv\")\n",
    "                    .option(\"header\", \"true\")\n",
    "                    .option(\"inferSchema\", \"true\")\n",
    "                    .load(\"/databricks-datasets/learning-spark-v2/sf-fire/sf-fire-calls.csv\"))\n",
    "\n",
    "# df_sf_fire_calls = (spark.read\n",
    "#                     .csv(\"/databricks-datasets/learning-spark-v2/sf-fire/sf-fire-calls.csv\")\n",
    "#                     .option(\"header\", \"true\")\n",
    "#                     .option(\"inferSchema\", \"true\"))\n",
    "\n",
    "df_sf_fire_calls.printSchema()\n",
    "\n",
    "df_sf_fire_calls.show()\n",
    "\n",
    "display(df_sf_fire_calls)"
   ]
  },
  {
   "cell_type": "markdown",
   "metadata": {
    "application/vnd.databricks.v1+cell": {
     "cellMetadata": {},
     "inputWidgets": {},
     "nuid": "df03ad0c-e39f-48bc-aaff-a81904ac947c",
     "showTitle": false,
     "title": ""
    }
   },
   "source": [
    "Este ejercicio queremos usar Spark SQL y trabajar con nuestros datos de una manera muy similar a como lo haríamos con una base de datos\n",
    "\n",
    "Para ello carguemos el Dataframe en una tabla temporal sobre la que podremos ejecutar nuestras queries SQL"
   ]
  },
  {
   "cell_type": "code",
   "execution_count": 0,
   "metadata": {
    "application/vnd.databricks.v1+cell": {
     "cellMetadata": {
      "byteLimit": 2048000,
      "rowLimit": 10000
     },
     "inputWidgets": {},
     "nuid": "b70ce12e-3856-4327-bd00-ebeb1da7c3dd",
     "showTitle": false,
     "title": ""
    }
   },
   "outputs": [],
   "source": [
    "df_sf_fire_calls.createGlobalTempView(\"fire_calls\")"
   ]
  },
  {
   "cell_type": "code",
   "execution_count": 0,
   "metadata": {
    "application/vnd.databricks.v1+cell": {
     "cellMetadata": {
      "byteLimit": 2048000,
      "implicitDf": true,
      "rowLimit": 10000
     },
     "inputWidgets": {},
     "nuid": "63070c02-c4f5-421c-8125-da8b8334c8b5",
     "showTitle": false,
     "title": ""
    }
   },
   "outputs": [],
   "source": [
    "%sql\n",
    "select * from global_temp.fire_calls"
   ]
  },
  {
   "cell_type": "markdown",
   "metadata": {
    "application/vnd.databricks.v1+cell": {
     "cellMetadata": {},
     "inputWidgets": {},
     "nuid": "7985bbae-6697-421d-808b-2359ce0684e7",
     "showTitle": false,
     "title": ""
    }
   },
   "source": [
    "### 1. Cuántos tipos distintos de llamadas ha recibido el departamento de incendios?"
   ]
  },
  {
   "cell_type": "code",
   "execution_count": 0,
   "metadata": {
    "application/vnd.databricks.v1+cell": {
     "cellMetadata": {
      "byteLimit": 2048000,
      "implicitDf": true,
      "rowLimit": 10000
     },
     "inputWidgets": {},
     "nuid": "9217a1f9-3cf2-4880-a380-7d847d05b18b",
     "showTitle": false,
     "title": ""
    }
   },
   "outputs": [],
   "source": [
    "%sql\n",
    "select count(distinct(CallType)) from global_temp.fire_calls"
   ]
  },
  {
   "cell_type": "markdown",
   "metadata": {
    "application/vnd.databricks.v1+cell": {
     "cellMetadata": {},
     "inputWidgets": {},
     "nuid": "dbc19d68-220a-4263-9fca-2f70920b16ad",
     "showTitle": false,
     "title": ""
    }
   },
   "source": [
    "### 2. Cuales son los distintos tipos de llamadas?"
   ]
  },
  {
   "cell_type": "code",
   "execution_count": 0,
   "metadata": {
    "application/vnd.databricks.v1+cell": {
     "cellMetadata": {
      "byteLimit": 2048000,
      "implicitDf": true,
      "rowLimit": 10000
     },
     "inputWidgets": {},
     "nuid": "0ccc31cd-2140-48bc-9426-606b74fe480b",
     "showTitle": false,
     "title": ""
    }
   },
   "outputs": [],
   "source": [
    "%sql\n",
    "select count(distinct(CallType)) from global_temp.fire_calls"
   ]
  },
  {
   "cell_type": "markdown",
   "metadata": {
    "application/vnd.databricks.v1+cell": {
     "cellMetadata": {},
     "inputWidgets": {},
     "nuid": "675ecabd-d16d-44fe-b919-57554a191f2e",
     "showTitle": false,
     "title": ""
    }
   },
   "source": [
    "### 3. Encuentra todas las llamadas con un retraso (delay) superior a 5 minutos"
   ]
  },
  {
   "cell_type": "code",
   "execution_count": 0,
   "metadata": {
    "application/vnd.databricks.v1+cell": {
     "cellMetadata": {
      "byteLimit": 2048000,
      "implicitDf": true,
      "rowLimit": 10000
     },
     "inputWidgets": {},
     "nuid": "1a6c95a9-943f-42c6-8f31-b53ce1eafe31",
     "showTitle": false,
     "title": ""
    }
   },
   "outputs": [],
   "source": [
    "%sql\n",
    "select * from global_temp.fire_calls where Delay > 5"
   ]
  },
  {
   "cell_type": "markdown",
   "metadata": {
    "application/vnd.databricks.v1+cell": {
     "cellMetadata": {},
     "inputWidgets": {},
     "nuid": "a54b913c-e540-420a-9eeb-bfe547e63b7b",
     "showTitle": false,
     "title": ""
    }
   },
   "source": [
    "### 3. Cuales son los tipos de llamada más frecuentes?"
   ]
  },
  {
   "cell_type": "code",
   "execution_count": 0,
   "metadata": {
    "application/vnd.databricks.v1+cell": {
     "cellMetadata": {
      "byteLimit": 2048000,
      "implicitDf": true,
      "rowLimit": 10000
     },
     "inputWidgets": {},
     "nuid": "7a2eebe7-934e-425c-8f97-66776272c3c3",
     "showTitle": false,
     "title": ""
    }
   },
   "outputs": [],
   "source": [
    "%sql\n",
    "select CallType, count(*) as count from global_temp.fire_calls group by CallType"
   ]
  },
  {
   "cell_type": "markdown",
   "metadata": {
    "application/vnd.databricks.v1+cell": {
     "cellMetadata": {},
     "inputWidgets": {},
     "nuid": "1402a537-c097-44a0-a150-da061983bc6f",
     "showTitle": false,
     "title": ""
    }
   },
   "source": [
    "### 4. Que códigos postales (zipcode) observamos para los tipos de llamada más habituales\n"
   ]
  },
  {
   "cell_type": "code",
   "execution_count": 0,
   "metadata": {
    "application/vnd.databricks.v1+cell": {
     "cellMetadata": {
      "byteLimit": 2048000,
      "implicitDf": true,
      "rowLimit": 10000
     },
     "inputWidgets": {},
     "nuid": "fe262752-fd38-4cd7-bb6d-b2322fb023cc",
     "showTitle": false,
     "title": ""
    }
   },
   "outputs": [],
   "source": [
    "%sql\n",
    "select CallType, count(*), collect_set(`Zipcode of Incident`) as count \n",
    "from global_temp.fire_calls \n",
    "group by CallType \n",
    "order by count desc \n",
    "limit 5"
   ]
  },
  {
   "cell_type": "code",
   "execution_count": 0,
   "metadata": {
    "application/vnd.databricks.v1+cell": {
     "cellMetadata": {
      "byteLimit": 2048000,
      "implicitDf": true,
      "rowLimit": 10000
     },
     "inputWidgets": {},
     "nuid": "317f9748-9fd5-4723-9849-09b51cd6c928",
     "showTitle": false,
     "title": ""
    }
   },
   "outputs": [],
   "source": [
    "%sql\n",
    "select CallType, `Zipcode of Incident`, count(*) as count \n",
    "from global_temp.fire_calls \n",
    "group by CallType, `Zipcode of Incident` \n",
    "order by count desc \n",
    "limit 5"
   ]
  },
  {
   "cell_type": "markdown",
   "metadata": {
    "application/vnd.databricks.v1+cell": {
     "cellMetadata": {},
     "inputWidgets": {},
     "nuid": "93c9032d-28cf-4c5f-a48d-f1c70fe2d422",
     "showTitle": false,
     "title": ""
    }
   },
   "source": [
    "### 5. Que barrios de San Francisco estan en los codigos postales 94102 y 94103?"
   ]
  },
  {
   "cell_type": "code",
   "execution_count": 0,
   "metadata": {
    "application/vnd.databricks.v1+cell": {
     "cellMetadata": {
      "byteLimit": 2048000,
      "implicitDf": true,
      "rowLimit": 10000
     },
     "inputWidgets": {},
     "nuid": "63ada8c2-2862-4d77-b1b2-785dc3302145",
     "showTitle": false,
     "title": ""
    }
   },
   "outputs": [],
   "source": [
    "%sql\n",
    "select Neighborhood, `Zipcode of Incident` from global_temp.fire_calls where `Zipcode of Incident` = 94102 or `Zipcode of Incident` = 94103"
   ]
  },
  {
   "cell_type": "code",
   "execution_count": 0,
   "metadata": {
    "application/vnd.databricks.v1+cell": {
     "cellMetadata": {
      "byteLimit": 2048000,
      "implicitDf": true,
      "rowLimit": 10000
     },
     "inputWidgets": {},
     "nuid": "4a34fcf7-f314-4f2b-95f8-4041c3647c4f",
     "showTitle": false,
     "title": ""
    }
   },
   "outputs": [],
   "source": [
    "%sql\n",
    "select Neighborhood, `Zipcode of Incident` \n",
    "from global_temp.fire_calls \n",
    "where `Zipcode of Incident` = 94102 or `Zipcode of Incident` = 94103 \n",
    "group by Neighborhood, `Zipcode of Incident`"
   ]
  },
  {
   "cell_type": "markdown",
   "metadata": {
    "application/vnd.databricks.v1+cell": {
     "cellMetadata": {},
     "inputWidgets": {},
     "nuid": "9006ee16-c2a1-4391-86dc-860732fcf61a",
     "showTitle": false,
     "title": ""
    }
   },
   "source": [
    "## 6. Cuanto es la suma de los tiempso de respuesta de todas las llamadas las llamadas, la media, el minimo y el maximo"
   ]
  },
  {
   "cell_type": "code",
   "execution_count": 0,
   "metadata": {
    "application/vnd.databricks.v1+cell": {
     "cellMetadata": {
      "byteLimit": 2048000,
      "implicitDf": true,
      "rowLimit": 10000
     },
     "inputWidgets": {},
     "nuid": "9857f8ea-9231-4b27-82a4-7a7a5521f746",
     "showTitle": false,
     "title": ""
    }
   },
   "outputs": [],
   "source": [
    "%sql\n",
    "select avg(Delay), min(Delay), max(Delay)\n",
    "from global_temp.fire_calls "
   ]
  },
  {
   "cell_type": "markdown",
   "metadata": {
    "application/vnd.databricks.v1+cell": {
     "cellMetadata": {},
     "inputWidgets": {},
     "nuid": "9a987401-0be9-4839-b273-b4d243dab45b",
     "showTitle": false,
     "title": ""
    }
   },
   "source": [
    "## 7. Cuanto años distintos de datos hay en el dataset (weekofyear, todate)"
   ]
  },
  {
   "cell_type": "code",
   "execution_count": 0,
   "metadata": {
    "application/vnd.databricks.v1+cell": {
     "cellMetadata": {
      "byteLimit": 2048000,
      "implicitDf": true,
      "rowLimit": 10000
     },
     "inputWidgets": {},
     "nuid": "e1849b16-94e0-4a36-a62c-3a147ebeb9e2",
     "showTitle": false,
     "title": ""
    }
   },
   "outputs": [],
   "source": [
    "%sql\n",
    "select distinct(year(`Call Date`))\n",
    "from global_temp.fire_calls"
   ]
  },
  {
   "cell_type": "markdown",
   "metadata": {
    "application/vnd.databricks.v1+cell": {
     "cellMetadata": {},
     "inputWidgets": {},
     "nuid": "186a5f5a-8616-41f2-92cf-b80e16d3b905",
     "showTitle": false,
     "title": ""
    }
   },
   "source": [
    "## 8. En que semana del año 2018 hubo más llamadas que vecindarios tienen los peores tiempos de respuesta"
   ]
  },
  {
   "cell_type": "code",
   "execution_count": 0,
   "metadata": {
    "application/vnd.databricks.v1+cell": {
     "cellMetadata": {
      "byteLimit": 2048000,
      "implicitDf": true,
      "rowLimit": 10000
     },
     "inputWidgets": {},
     "nuid": "fbce0230-2e61-4c9d-8a75-0213f25a4fd8",
     "showTitle": false,
     "title": ""
    }
   },
   "outputs": [],
   "source": [
    "%sql\n",
    "select Neighborhood, weekofyear(`Call Date`), Delay, year(`Call Date`) \n",
    "from global_temp.fire_calls\n",
    "where year(`Call Date`) = 2018"
   ]
  }
 ],
 "metadata": {
  "application/vnd.databricks.v1+notebook": {
   "dashboards": [],
   "language": "python",
   "notebookMetadata": {
    "mostRecentlyExecutedCommandWithImplicitDF": {
     "commandId": 283325323041075,
     "dataframes": [
      "_sqldf"
     ]
    },
    "pythonIndentUnit": 4
   },
   "notebookName": "Ejercicio SQL en Spark",
   "widgets": {}
  }
 },
 "nbformat": 4,
 "nbformat_minor": 0
}
